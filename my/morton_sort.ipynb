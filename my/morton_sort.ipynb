{
 "cells": [
  {
   "cell_type": "code",
   "execution_count": 1,
   "metadata": {},
   "outputs": [],
   "source": [
    "import random\n",
    "import pprint\n",
    "from operator import itemgetter\n",
    "import networkx as nx\n",
    "import matplotlib.pyplot as plt\n",
    "from mpl_toolkits.mplot3d import Axes3D\n",
    "import numpy as np\n",
    "from mayavi import mlab\n",
    "import functools\n",
    "\n",
    "\n",
    "\n",
    "\n",
    "\n"
   ]
  },
  {
   "cell_type": "code",
   "execution_count": 2,
   "metadata": {},
   "outputs": [],
   "source": [
    "N=10\n",
    "data_points = []\n",
    "rng = 100\n",
    "partition_count=3\n",
    "# for i in range(N):\n",
    "#     for j in range(N):\n",
    "#         for k in range(N):\n",
    "#             data_points.append([i,j,k])\n",
    "\n",
    "\n",
    "for i in range(N):\n",
    "    for j in range(N):\n",
    "        # x = random.uniform(-1,1)\n",
    "        x = random.randint(0,rng)\n",
    "\n",
    "        # y = random.uniform(-1,1)\n",
    "        y = random.randint(0,rng)\n",
    "        z = random.randint(0,rng)\n",
    "        data_points.append([x,y,z])"
   ]
  },
  {
   "cell_type": "code",
   "execution_count": 3,
   "metadata": {},
   "outputs": [],
   "source": [
    "\"\"\"\n",
    "unsigned int x = (m_uiX ^ other.m_uiX);\n",
    "unsigned int y = (m_uiY ^ other.m_uiY);\n",
    "unsigned int z = (m_uiZ ^ other.m_uiZ);\n",
    "\n",
    "//Default pref: z > y > x.\n",
    "unsigned int maxC = z;\n",
    "unsigned int yOrx = y;\n",
    "if (yOrx < x) \n",
    "{\n",
    "    if ((x ^ yOrx) >= yOrx) {\n",
    "        yOrx = x;\n",
    "    }\n",
    "}\n",
    "if (maxC < yOrx) {\n",
    "    if ((maxC ^ yOrx) >= maxC) {\n",
    "        maxC = yOrx;\n",
    "    }\n",
    "}\n",
    "\n",
    "if (maxC == z) {\n",
    "    return (m_uiZ < other.m_uiZ); \n",
    "} else if (maxC == y) {\n",
    "    return (m_uiY < other.m_uiY); \n",
    "} else {\n",
    "    return (m_uiX < other.m_uiX); \n",
    "\n",
    "}\n",
    "// -- original Morton\n",
    "\n",
    "\n",
    "\"\"\"\n",
    "\n",
    "def morton_compare(p1, p2):\n",
    "    # p1 = p1_data[\"value\"]\n",
    "    # p2 = p2_data[\"value\"]\n",
    "    temp_x = p1[0] ^ p2[0]\n",
    "    temp_y = p1[1] ^ p2[1]\n",
    "    temp_z = p1[2] ^ p2[2]\n",
    "\n",
    "    maxC = temp_z\n",
    "    yOrx = temp_y\n",
    "\n",
    "    if (yOrx < temp_x):\n",
    "        if ((temp_x ^ yOrx) >= yOrx):\n",
    "            yOrx = x\n",
    "\n",
    "    if (maxC < yOrx):\n",
    "        if ((maxC ^ yOrx) >= maxC):\n",
    "            maxC = yOrx\n",
    "        \n",
    "    if (maxC == temp_z):\n",
    "        return -1 if p1[2] < p2[2] else 1\n",
    "    elif (maxC == temp_y):\n",
    "        return -1 if p1[1] < p2[1] else 1\n",
    "    else:\n",
    "        return -1 if p1[0] < p2[0] else 1\n",
    "\n",
    "data_points_morton_ordered = sorted(data_points, key=functools.cmp_to_key(morton_compare))\n",
    "\n",
    "figsize=15\n",
    "G = nx.Graph()\n",
    "G.add_node(0)\n",
    "pos = {}\n",
    "pos[0] = data_points_morton_ordered[0]\n",
    "for i in range(1,len(data_points)):\n",
    "    G.add_node(i)\n",
    "    G.add_edge(i-1,i)\n",
    "    pos[i] = data_points_morton_ordered[i]\n",
    "# plt.figure(figsize=(figsize,figsize))\n",
    "# nx.draw_networkx(G, pos)"
   ]
  },
  {
   "cell_type": "code",
   "execution_count": 4,
   "metadata": {},
   "outputs": [],
   "source": [
    "def cluster_to_color(ci):\n",
    "    random.seed(ci*ci)\n",
    "    return (random.randint(0,255),random.randint(0,255),random.randint(0,255),255)"
   ]
  },
  {
   "cell_type": "code",
   "execution_count": 5,
   "metadata": {},
   "outputs": [
    {
     "name": "stdout",
     "output_type": "stream",
     "text": [
      "[0, 0, 0, 0, 0, 0, 0, 0, 0, 0, 0, 0, 0, 0, 0, 0, 0, 0, 0, 0, 0, 0, 0, 0, 0, 0, 0, 0, 0, 0, 0, 0, 0, 0, 1, 1, 1, 1, 1, 1, 1, 1, 1, 1, 1, 1, 1, 1, 1, 1, 1, 1, 1, 1, 1, 1, 1, 1, 1, 1, 1, 1, 1, 1, 1, 1, 1, 2, 2, 2, 2, 2, 2, 2, 2, 2, 2, 2, 2, 2, 2, 2, 2, 2, 2, 2, 2, 2, 2, 2, 2, 2, 2, 2, 2, 2, 2, 2, 2, 2]\n"
     ]
    }
   ],
   "source": [
    "partition_size = (len(data_points))//partition_count\n",
    "large_partition_count = len(data_points) % partition_count\n",
    "morton_only_partition_labels = [-1 for _ in range(len(data_points))]\n",
    "\n",
    "centers = []\n",
    "\n",
    "for partition_idx in range(partition_count):\n",
    "\n",
    "    if partition_idx < large_partition_count:\n",
    "        size = partition_size+1\n",
    "        offset = partition_idx*(partition_size+1)\n",
    "    else:\n",
    "        size = partition_size\n",
    "        offset = large_partition_count*(partition_size+1) + (partition_idx-large_partition_count)*partition_size\n",
    "    for i in range(offset, offset+size):\n",
    "        morton_only_partition_labels[i] = partition_idx\n",
    "        # print(morton_order[i])\n",
    "print(morton_only_partition_labels)"
   ]
  },
  {
   "cell_type": "code",
   "execution_count": 6,
   "metadata": {},
   "outputs": [
    {
     "name": "stderr",
     "output_type": "stream",
     "text": [
      "/home/budvin/research/Partitioning/paralab-partition/.venv/lib/python3.10/site-packages/pyface/ui/qt/workbench/split_tab_widget.py:125: UserWarning: Attempting to restore to a non-empty widget.\n",
      "  warnings.warn(\"Attempting to restore to a non-empty widget.\")\n"
     ]
    },
    {
     "ename": "FileNotFoundError",
     "evalue": "[Errno 2] No such file or directory: '/home/budvin/.enthought/mayavi_e3/preferences.ini'",
     "output_type": "error",
     "traceback": [
      "\u001b[0;31m---------------------------------------------------------------------------\u001b[0m",
      "\u001b[0;31mFileNotFoundError\u001b[0m                         Traceback (most recent call last)",
      "File \u001b[0;32m~/research/Partitioning/paralab-partition/.venv/lib/python3.10/site-packages/pyface/ui/qt/gui.py:190\u001b[0m, in \u001b[0;36m_FutureCall._dispatch\u001b[0;34m(self)\u001b[0m\n\u001b[1;32m    187\u001b[0m \u001b[39m\u001b[39m\u001b[39m\"\"\" Invoke the callable.\u001b[39;00m\n\u001b[1;32m    188\u001b[0m \u001b[39m\"\"\"\u001b[39;00m\n\u001b[1;32m    189\u001b[0m \u001b[39mtry\u001b[39;00m:\n\u001b[0;32m--> 190\u001b[0m     \u001b[39mself\u001b[39;49m\u001b[39m.\u001b[39;49m_callable(\u001b[39m*\u001b[39;49m\u001b[39mself\u001b[39;49m\u001b[39m.\u001b[39;49m_args, \u001b[39m*\u001b[39;49m\u001b[39m*\u001b[39;49m\u001b[39mself\u001b[39;49m\u001b[39m.\u001b[39;49m_kw)\n\u001b[1;32m    191\u001b[0m \u001b[39mfinally\u001b[39;00m:\n\u001b[1;32m    192\u001b[0m     \u001b[39mself\u001b[39m\u001b[39m.\u001b[39m_finished()\n",
      "File \u001b[0;32m~/research/Partitioning/paralab-partition/.venv/lib/python3.10/site-packages/envisage/application.py:326\u001b[0m, in \u001b[0;36mApplication.stop\u001b[0;34m(self)\u001b[0m\n\u001b[1;32m    322\u001b[0m \u001b[39mself\u001b[39m\u001b[39m.\u001b[39mstopping \u001b[39m=\u001b[39m event \u001b[39m=\u001b[39m \u001b[39mself\u001b[39m\u001b[39m.\u001b[39m_create_application_event()\n\u001b[1;32m    323\u001b[0m \u001b[39mif\u001b[39;00m \u001b[39mnot\u001b[39;00m event\u001b[39m.\u001b[39mveto:\n\u001b[1;32m    324\u001b[0m     \u001b[39m# Stop the plugin manager (this stops all of the manager's\u001b[39;00m\n\u001b[1;32m    325\u001b[0m     \u001b[39m# plugins).\u001b[39;00m\n\u001b[0;32m--> 326\u001b[0m     \u001b[39mself\u001b[39;49m\u001b[39m.\u001b[39;49mplugin_manager\u001b[39m.\u001b[39;49mstop()\n\u001b[1;32m    328\u001b[0m     \u001b[39m# Save all preferences.\u001b[39;00m\n\u001b[1;32m    329\u001b[0m     \u001b[39mself\u001b[39m\u001b[39m.\u001b[39mpreferences\u001b[39m.\u001b[39msave()\n",
      "File \u001b[0;32m~/research/Partitioning/paralab-partition/.venv/lib/python3.10/site-packages/envisage/plugin_manager.py:165\u001b[0m, in \u001b[0;36mPluginManager.stop\u001b[0;34m(self)\u001b[0m\n\u001b[1;32m    162\u001b[0m stop_order\u001b[39m.\u001b[39mreverse()\n\u001b[1;32m    164\u001b[0m \u001b[39mfor\u001b[39;00m plugin \u001b[39min\u001b[39;00m stop_order:\n\u001b[0;32m--> 165\u001b[0m     \u001b[39mself\u001b[39;49m\u001b[39m.\u001b[39;49mstop_plugin(plugin)\n",
      "File \u001b[0;32m~/research/Partitioning/paralab-partition/.venv/lib/python3.10/site-packages/envisage/plugin_manager.py:173\u001b[0m, in \u001b[0;36mPluginManager.stop_plugin\u001b[0;34m(self, plugin, plugin_id)\u001b[0m\n\u001b[1;32m    171\u001b[0m \u001b[39mif\u001b[39;00m plugin \u001b[39mis\u001b[39;00m \u001b[39mnot\u001b[39;00m \u001b[39mNone\u001b[39;00m:\n\u001b[1;32m    172\u001b[0m     logger\u001b[39m.\u001b[39mdebug(\u001b[39m\"\u001b[39m\u001b[39mplugin \u001b[39m\u001b[39m%s\u001b[39;00m\u001b[39m stopping\u001b[39m\u001b[39m\"\u001b[39m, plugin\u001b[39m.\u001b[39mid)\n\u001b[0;32m--> 173\u001b[0m     plugin\u001b[39m.\u001b[39;49mactivator\u001b[39m.\u001b[39;49mstop_plugin(plugin)\n\u001b[1;32m    174\u001b[0m     logger\u001b[39m.\u001b[39mdebug(\u001b[39m\"\u001b[39m\u001b[39mplugin \u001b[39m\u001b[39m%s\u001b[39;00m\u001b[39m stopped\u001b[39m\u001b[39m\"\u001b[39m, plugin\u001b[39m.\u001b[39mid)\n\u001b[1;32m    176\u001b[0m \u001b[39melse\u001b[39;00m:\n",
      "File \u001b[0;32m~/research/Partitioning/paralab-partition/.venv/lib/python3.10/site-packages/envisage/plugin_activator.py:45\u001b[0m, in \u001b[0;36mPluginActivator.stop_plugin\u001b[0;34m(self, plugin)\u001b[0m\n\u001b[1;32m     42\u001b[0m \u001b[39m\u001b[39m\u001b[39m\"\"\"Stop the specified plugin.\"\"\"\u001b[39;00m\n\u001b[1;32m     44\u001b[0m \u001b[39m# Plugin specific stop.\u001b[39;00m\n\u001b[0;32m---> 45\u001b[0m plugin\u001b[39m.\u001b[39;49mstop()\n\u001b[1;32m     47\u001b[0m \u001b[39m# Unregister all service.\u001b[39;00m\n\u001b[1;32m     48\u001b[0m plugin\u001b[39m.\u001b[39munregister_services()\n",
      "File \u001b[0;32m~/research/Partitioning/paralab-partition/.venv/lib/python3.10/site-packages/apptools/logger/plugin/logger_plugin.py:98\u001b[0m, in \u001b[0;36mLoggerPlugin.stop\u001b[0;34m(self)\u001b[0m\n\u001b[1;32m     96\u001b[0m \u001b[39m\u001b[39m\u001b[39m\"\"\"Stops the plugin.\"\"\"\u001b[39;00m\n\u001b[1;32m     97\u001b[0m service \u001b[39m=\u001b[39m \u001b[39mself\u001b[39m\u001b[39m.\u001b[39mapplication\u001b[39m.\u001b[39mget_service(ILOGGER)\n\u001b[0;32m---> 98\u001b[0m service\u001b[39m.\u001b[39;49msave_preferences()\n",
      "File \u001b[0;32m~/research/Partitioning/paralab-partition/.venv/lib/python3.10/site-packages/apptools/logger/plugin/logger_service.py:53\u001b[0m, in \u001b[0;36mLoggerService.save_preferences\u001b[0;34m(self)\u001b[0m\n\u001b[1;32m     51\u001b[0m \u001b[39mdef\u001b[39;00m \u001b[39msave_preferences\u001b[39m(\u001b[39mself\u001b[39m):\n\u001b[1;32m     52\u001b[0m \u001b[39m    \u001b[39m\u001b[39m\"\"\"Save the preferences.\"\"\"\u001b[39;00m\n\u001b[0;32m---> 53\u001b[0m     \u001b[39mself\u001b[39;49m\u001b[39m.\u001b[39;49mpreferences\u001b[39m.\u001b[39;49mpreferences\u001b[39m.\u001b[39;49msave()\n",
      "File \u001b[0;32m~/research/Partitioning/paralab-partition/.venv/lib/python3.10/site-packages/apptools/preferences/scoped_preferences.py:336\u001b[0m, in \u001b[0;36mScopedPreferences.save\u001b[0;34m(self, file_or_filename)\u001b[0m\n\u001b[1;32m    333\u001b[0m \u001b[39mif\u001b[39;00m file_or_filename \u001b[39mis\u001b[39;00m \u001b[39mNone\u001b[39;00m \u001b[39mand\u001b[39;00m \u001b[39mlen\u001b[39m(\u001b[39mself\u001b[39m\u001b[39m.\u001b[39mfilename) \u001b[39m>\u001b[39m \u001b[39m0\u001b[39m:\n\u001b[1;32m    334\u001b[0m     file_or_filename \u001b[39m=\u001b[39m \u001b[39mself\u001b[39m\u001b[39m.\u001b[39mfilename\n\u001b[0;32m--> 336\u001b[0m \u001b[39mself\u001b[39;49m\u001b[39m.\u001b[39;49m_get_primary_scope()\u001b[39m.\u001b[39;49msave(file_or_filename)\n\u001b[1;32m    337\u001b[0m \u001b[39mfor\u001b[39;00m scope \u001b[39min\u001b[39;00m \u001b[39mself\u001b[39m\u001b[39m.\u001b[39mscopes:\n\u001b[1;32m    338\u001b[0m     \u001b[39mif\u001b[39;00m scope \u001b[39mis\u001b[39;00m \u001b[39mnot\u001b[39;00m \u001b[39mself\u001b[39m\u001b[39m.\u001b[39m_get_primary_scope():\n",
      "File \u001b[0;32m~/research/Partitioning/paralab-partition/.venv/lib/python3.10/site-packages/apptools/preferences/preferences.py:396\u001b[0m, in \u001b[0;36mPreferences.save\u001b[0;34m(self, file_or_filename)\u001b[0m\n\u001b[1;32m    394\u001b[0m config_obj \u001b[39m=\u001b[39m ConfigObj(file_or_filename, encoding\u001b[39m=\u001b[39m\u001b[39m\"\u001b[39m\u001b[39mutf-8\u001b[39m\u001b[39m\"\u001b[39m)\n\u001b[1;32m    395\u001b[0m \u001b[39mself\u001b[39m\u001b[39m.\u001b[39m_add_node_to_dictionary(\u001b[39mself\u001b[39m, config_obj)\n\u001b[0;32m--> 396\u001b[0m config_obj\u001b[39m.\u001b[39;49mwrite()\n",
      "File \u001b[0;32m~/research/Partitioning/paralab-partition/.venv/lib/python3.10/site-packages/configobj/__init__.py:2128\u001b[0m, in \u001b[0;36mConfigObj.write\u001b[0;34m(self, outfile, section)\u001b[0m\n\u001b[1;32m   2126\u001b[0m     outfile\u001b[39m.\u001b[39mwrite(output_bytes)\n\u001b[1;32m   2127\u001b[0m \u001b[39melse\u001b[39;00m:\n\u001b[0;32m-> 2128\u001b[0m     \u001b[39mwith\u001b[39;00m \u001b[39mopen\u001b[39;49m(\u001b[39mself\u001b[39;49m\u001b[39m.\u001b[39;49mfilename, \u001b[39m'\u001b[39;49m\u001b[39mwb\u001b[39;49m\u001b[39m'\u001b[39;49m) \u001b[39mas\u001b[39;00m h:\n\u001b[1;32m   2129\u001b[0m         h\u001b[39m.\u001b[39mwrite(output_bytes)\n",
      "\u001b[0;31mFileNotFoundError\u001b[0m: [Errno 2] No such file or directory: '/home/budvin/.enthought/mayavi_e3/preferences.ini'"
     ]
    }
   ],
   "source": [
    "mlab.options.backend = 'envisage'\n",
    "# s = mlab.test_plot3d()\n",
    "# mlab.figure()\n",
    "xyz = np.array(data_points_morton_ordered)\n",
    "# scalar colors\n",
    "scalars = np.array(list(G.nodes()))\n",
    "\n",
    "# mlab.figure()\n",
    "pts = mlab.points3d(\n",
    "    xyz[:, 0],\n",
    "    xyz[:, 1],\n",
    "    xyz[:, 2],\n",
    "    scalars,\n",
    "    scale_factor=0.09,\n",
    "    scale_mode=\"none\",\n",
    "    colormap=\"Blues\",\n",
    "    resolution=20,\n",
    ")\n",
    "\n",
    "clrs = [cluster_to_color(label) for label in morton_only_partition_labels]\n",
    "pts.module_manager.scalar_lut_manager.lut.number_of_colors = partition_count\n",
    "pts.module_manager.scalar_lut_manager.lut.table = clrs\n",
    "\n",
    "# edges_adjusted_for_idx = [(element_to_idx[u],element_to_idx[v]) for u,v in G.edges()]\n",
    "pts.mlab_source.dataset.lines = np.array(G.edges())\n",
    "tube = mlab.pipeline.tube(pts, tube_radius=0.02)\n",
    "mlab.pipeline.surface(tube, color=(0.8, 0.8, 0.8))\n",
    "\n",
    "mlab.orientation_axes()\n",
    "mlab.show()"
   ]
  }
 ],
 "metadata": {
  "kernelspec": {
   "display_name": ".venv",
   "language": "python",
   "name": "python3"
  },
  "language_info": {
   "codemirror_mode": {
    "name": "ipython",
    "version": 3
   },
   "file_extension": ".py",
   "mimetype": "text/x-python",
   "name": "python",
   "nbconvert_exporter": "python",
   "pygments_lexer": "ipython3",
   "version": "3.10.12"
  }
 },
 "nbformat": 4,
 "nbformat_minor": 2
}
