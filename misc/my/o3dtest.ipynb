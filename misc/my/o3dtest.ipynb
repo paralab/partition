{
 "cells": [
  {
   "cell_type": "code",
   "execution_count": 1,
   "metadata": {},
   "outputs": [
    {
     "name": "stdout",
     "output_type": "stream",
     "text": [
      "Jupyter environment detected. Enabling Open3D WebVisualizer.\n",
      "[Open3D INFO] WebRTC GUI backend enabled.\n",
      "[Open3D INFO] WebRTCWindowSystem: HTTP handshake server disabled.\n"
     ]
    }
   ],
   "source": [
    "import open3d as o3d\n",
    "import numpy as np"
   ]
  },
  {
   "cell_type": "code",
   "execution_count": 5,
   "metadata": {},
   "outputs": [
    {
     "name": "stdout",
     "output_type": "stream",
     "text": [
      "VoxelGrid with 2000 voxels.\n"
     ]
    }
   ],
   "source": [
    "N = 2000\n",
    "\n",
    "armadillo = o3d.data.ArmadilloMesh()\n",
    "mesh = o3d.io.read_triangle_mesh(armadillo.path)\n",
    "pcd = mesh.sample_points_poisson_disk(N)\n",
    "# print(pcd[0])\n",
    "voxel_grid = o3d.geometry.VoxelGrid.create_from_point_cloud(pcd,\n",
    "                                                            voxel_size=0.05)\n",
    "print(voxel_grid)\n",
    "# fit to unit cube\n",
    "# pcd.scale(1 / np.max(pcd.get_max_bound() - pcd.get_min_bound()),\n",
    "#           center=pcd.get_center())\n",
    "# pcd.colors = o3d.utility.Vector3dVector(np.random.uniform(0, 1, size=(N, 3)))\n",
    "# o3d.visualization.draw_geometries([pcd])\n",
    "\n",
    "# print('octree division')\n",
    "# octree = o3d.geometry.Octree(max_depth=4)\n",
    "# octree.convert_from_point_cloud(pcd, size_expand=0.01)\n",
    "# o3d.visualization.draw_geometries([octree])"
   ]
  }
 ],
 "metadata": {
  "kernelspec": {
   "display_name": ".venv",
   "language": "python",
   "name": "python3"
  },
  "language_info": {
   "codemirror_mode": {
    "name": "ipython",
    "version": 3
   },
   "file_extension": ".py",
   "mimetype": "text/x-python",
   "name": "python",
   "nbconvert_exporter": "python",
   "pygments_lexer": "ipython3",
   "version": "3.10.12"
  }
 },
 "nbformat": 4,
 "nbformat_minor": 2
}
